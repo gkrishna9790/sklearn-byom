{
 "cells": [
  {
   "cell_type": "markdown",
   "metadata": {},
   "source": [
    "# XGBoost - Direct Marketing in Banking\n",
    "\n",
    "### Step 1. Importing Packages"
   ]
  },
  {
   "cell_type": "code",
   "execution_count": 1,
   "metadata": {},
   "outputs": [
    {
     "name": "stdout",
     "output_type": "stream",
     "text": [
      "https://s3-us-east-1.amazonaws.com/atl-gkrishna-ml\n",
      "CPU times: user 803 ms, sys: 116 ms, total: 918 ms\n",
      "Wall time: 2.53 s\n"
     ]
    }
   ],
   "source": [
    "%%time\n",
    "\n",
    "import os\n",
    "import boto3\n",
    "import re\n",
    "import sagemaker\n",
    "from sagemaker.predictor import csv_serializer\n",
    "\n",
    "role = sagemaker.get_execution_role()\n",
    "region = boto3.Session().region_name\n",
    "\n",
    "# S3 bucket for saving code and model artifacts.\n",
    "# Feel free to specify a different bucket and prefix\n",
    "bucket = 'atl-gkrishna-ml'\n",
    "prefix = 'aws-mlops-lunch-and-learn/part1-sagemaker/xgboost-sagemaker'\n",
    "# customize to your bucket where you have stored the data\n",
    "bucket_path = 'https://s3-{}.amazonaws.com/{}'.format(region, bucket)\n",
    "print(bucket_path)"
   ]
  },
  {
   "cell_type": "markdown",
   "metadata": {},
   "source": [
    "### Step 2. Fetching the dataset\n",
    "Following methods split the data into train/test/validation datasets and upload files to S3."
   ]
  },
  {
   "cell_type": "code",
   "execution_count": 2,
   "metadata": {},
   "outputs": [
    {
     "name": "stdout",
     "output_type": "stream",
     "text": [
      "Fields - after categorical encoding:\n",
      "['y' 'age' 'duration' 'campaign' 'pdays' 'previous' 'emp_var_rate'\n",
      " 'cons_price_idx' 'cons_conf_idx' 'euribor3m' 'nr_employed' 'job_admin.'\n",
      " 'job_blue-collar' 'job_entrepreneur' 'job_housemaid' 'job_management'\n",
      " 'job_retired' 'job_self-employed' 'job_services' 'job_student'\n",
      " 'job_technician' 'job_unemployed' 'job_unknown' 'marital_divorced'\n",
      " 'marital_married' 'marital_single' 'marital_unknown' 'education_basic.4y'\n",
      " 'education_basic.6y' 'education_basic.9y' 'education_high.school'\n",
      " 'education_illiterate' 'education_professional.course'\n",
      " 'education_university.degree' 'education_unknown' 'default_no'\n",
      " 'default_unknown' 'default_yes' 'housing_no' 'housing_unknown'\n",
      " 'housing_yes' 'loan_no' 'loan_unknown' 'loan_yes' 'contact_cellular'\n",
      " 'contact_telephone' 'month_apr' 'month_aug' 'month_dec' 'month_jul'\n",
      " 'month_jun' 'month_mar' 'month_may' 'month_nov' 'month_oct' 'month_sep'\n",
      " 'day_of_week_fri' 'day_of_week_mon' 'day_of_week_thu' 'day_of_week_tue'\n",
      " 'day_of_week_wed' 'poutcome_failure' 'poutcome_nonexistent'\n",
      " 'poutcome_success']\n"
     ]
    }
   ],
   "source": [
    "import io\n",
    "import boto3\n",
    "import random\n",
    "import pandas as pd\n",
    "import json\n",
    "from sklearn.model_selection import train_test_split\n",
    "\n",
    "s3_bucket = 'atl-gkrishna-ml'\n",
    "s3_path_training = 'aws-mlops-lunch-and-learn/part1-sagemaker/xgboost-sagemaker/data/training/banking_train.csv'\n",
    "s3_path_testing = 'aws-mlops-lunch-and-learn/part1-sagemaker/xgboost-sagemaker/data/testing/banking_test.csv'\n",
    "s3_path_val = 'aws-mlops-lunch-and-learn/part1-sagemaker/xgboost-sagemaker/data/validation/banking_validation.csv'\n",
    "s3_model_output = 'aws-mlops-lunch-and-learn/part1-sagemaker/xgboost-sagemaker/output'\n",
    "data = pd.read_csv('s3://atl-gkrishna-ml/aws-mlops-lunch-and-learn/part1-sagemaker/xgboost-sagemaker/data/raw/banking.csv')\n",
    "\n",
    "\n",
    "## Bringing target column as the first column (requirement for algorithm)\n",
    "cols = list(data)\n",
    "cols.insert(0, cols.pop(cols.index('y')))\n",
    "data = data.loc[:, cols]\n",
    "\n",
    "\n",
    "## Feature Engineering (from local model development notebook)\n",
    "categorical_variable_cols = ['job','marital','education','default','housing','loan','contact','month','day_of_week','poutcome']\n",
    "\n",
    "for var in categorical_variable_cols:\n",
    "    categ_list = 'var_' + var\n",
    "    categ_list = pd.get_dummies(data[var],prefix = var)\n",
    "    data1=data.join(categ_list)\n",
    "    data = data1\n",
    "\n",
    "## Creating feilds to keep\n",
    "data_vars = data.columns.values.tolist()\n",
    "to_keep=[i for i in data_vars if i not in categorical_variable_cols]\n",
    "\n",
    "data_final = data[to_keep]\n",
    "print(\"Fields - after categorical encoding:\")\n",
    "print(data_final.columns.values)\n",
    "\n",
    "columns_final = [\"previous\", \"euribor3m\", \"job_blue-collar\", \"job_retired\", \"job_services\", \"job_student\", \"default_no\", \n",
    "      \"month_aug\", \"month_dec\", \"month_jul\", \"month_nov\", \"month_oct\", \"month_sep\", \"day_of_week_fri\", \"day_of_week_wed\", \n",
    "      \"poutcome_failure\", \"poutcome_nonexistent\", \"poutcome_success\"] \n",
    "col_dict = {}\n",
    "col_dict['final_features'] = columns_final\n",
    "\n",
    "with open('final_features.json', 'w') as fp:\n",
    "    json.dump(col_dict, fp)\n",
    "\n",
    "X = data_final[columns_final]\n",
    "y = data_final['y']\n",
    "\n"
   ]
  },
  {
   "cell_type": "code",
   "execution_count": 3,
   "metadata": {},
   "outputs": [],
   "source": [
    "from io import StringIO # python3; python2: BytesIO \n",
    "import boto3\n",
    "import s3fs\n",
    "\n",
    "def data_split(X, y):  \n",
    "        \n",
    "    X_train, X_test, y_train, y_test = train_test_split(X, y, test_size=0.1, random_state=123)\n",
    "    X_train, X_val, y_train, y_val = train_test_split(X_train, y_train, test_size=0.125, random_state=123)    \n",
    "    data_train = pd.concat([y_train,X_train], axis=1, sort=False)\n",
    "    data_test = pd.concat([y_test,X_test], axis=1, sort=False)\n",
    "    data_val = pd.concat([y_val, X_val], axis=1, sort=False)\n",
    "    return(data_train,data_test,data_val)\n",
    "\n"
   ]
  },
  {
   "cell_type": "code",
   "execution_count": 4,
   "metadata": {},
   "outputs": [],
   "source": [
    "data_train,data_test,data_val = data_split(X, y)"
   ]
  },
  {
   "cell_type": "code",
   "execution_count": 5,
   "metadata": {},
   "outputs": [
    {
     "name": "stdout",
     "output_type": "stream",
     "text": [
      "(32435, 19)\n",
      "(4634, 19)\n"
     ]
    }
   ],
   "source": [
    "print(data_train.shape)\n",
    "print(data_val.shape)"
   ]
  },
  {
   "cell_type": "code",
   "execution_count": 6,
   "metadata": {},
   "outputs": [],
   "source": [
    "data_train.to_csv('banking_train.csv', header=False, index=False)\n",
    "data_test.to_csv('banking_test.csv', header=False, index=False)\n",
    "data_val.to_csv('banking_validation.csv', header=False, index=False)"
   ]
  },
  {
   "cell_type": "code",
   "execution_count": 7,
   "metadata": {},
   "outputs": [],
   "source": [
    "s3_input_train = boto3.Session().resource('s3').Bucket(s3_bucket).Object(s3_path_training).upload_file('banking_train.csv')\n",
    "s3_input_validation = boto3.Session().resource('s3').Bucket(s3_bucket).Object(s3_path_testing).upload_file('banking_test.csv')\n",
    "s3_input_test = boto3.Session().resource('s3').Bucket(s3_bucket).Object(s3_path_val).upload_file('banking_validation.csv')"
   ]
  },
  {
   "cell_type": "code",
   "execution_count": 8,
   "metadata": {},
   "outputs": [],
   "source": [
    "s3_input_train = sagemaker.s3_input(s3_data='s3://{}/{}'.format(s3_bucket, s3_path_training), content_type='csv')\n",
    "s3_input_validation = sagemaker.s3_input(s3_data='s3://{}/{}'.format(s3_bucket, s3_path_val), content_type='csv')"
   ]
  },
  {
   "cell_type": "markdown",
   "metadata": {},
   "source": [
    "### Step 3. Training the XGBoost model"
   ]
  },
  {
   "cell_type": "code",
   "execution_count": 9,
   "metadata": {},
   "outputs": [
    {
     "name": "stderr",
     "output_type": "stream",
     "text": [
      "WARNING:root:There is a more up to date SageMaker XGBoost image. To use the newer image, please set 'repo_version'='0.90-1'. For example:\n",
      "\tget_image_uri(region, 'xgboost', '0.90-1').\n"
     ]
    }
   ],
   "source": [
    "from sagemaker.amazon.amazon_estimator import get_image_uri\n",
    "\n",
    "sess = sagemaker.Session()\n",
    "\n",
    "container = get_image_uri(region, 'xgboost')"
   ]
  },
  {
   "cell_type": "code",
   "execution_count": 10,
   "metadata": {},
   "outputs": [],
   "source": [
    "xgb = sagemaker.estimator.Estimator(container,\n",
    "                                    role, \n",
    "                                    train_instance_count=1, \n",
    "                                    train_instance_type='ml.m4.xlarge',\n",
    "                                    output_path='s3://{}/{}'.format(s3_bucket, s3_model_output),\n",
    "                                    sagemaker_session=sess)"
   ]
  },
  {
   "cell_type": "code",
   "execution_count": 11,
   "metadata": {},
   "outputs": [],
   "source": [
    "xgb.set_hyperparameters(max_depth=2,\n",
    "                        eta=0.2,\n",
    "                        gamma=4,\n",
    "                        min_child_weight=6,\n",
    "                        subsample=0.8,\n",
    "                        silent=0,\n",
    "                        objective=\"binary:logistic\",\n",
    "                        num_round=100,\n",
    "                        eval_metric=\"auc\")"
   ]
  },
  {
   "cell_type": "code",
   "execution_count": 12,
   "metadata": {},
   "outputs": [
    {
     "name": "stdout",
     "output_type": "stream",
     "text": [
      "2020-06-19 15:27:30 Starting - Starting the training job...\n",
      "2020-06-19 15:27:32 Starting - Launching requested ML instances.........\n",
      "2020-06-19 15:29:17 Starting - Preparing the instances for training......\n",
      "2020-06-19 15:30:11 Downloading - Downloading input data...\n",
      "2020-06-19 15:30:44 Training - Downloading the training image.\u001b[34mArguments: train\u001b[0m\n",
      "\u001b[34m[2020-06-19:15:31:04:INFO] Running standalone xgboost training.\u001b[0m\n",
      "\u001b[34m[2020-06-19:15:31:04:INFO] File size need to be processed in the node: 1.55mb. Available memory size in the node: 8496.57mb\u001b[0m\n",
      "\u001b[34m[2020-06-19:15:31:04:INFO] Determined delimiter of CSV input is ','\u001b[0m\n",
      "\u001b[34m[15:31:04] S3DistributionType set as FullyReplicated\u001b[0m\n",
      "\u001b[34m[15:31:05] 32435x18 matrix with 583830 entries loaded from /opt/ml/input/data/train?format=csv&label_column=0&delimiter=,\u001b[0m\n",
      "\u001b[34m[2020-06-19:15:31:05:INFO] Determined delimiter of CSV input is ','\u001b[0m\n",
      "\u001b[34m[15:31:05] S3DistributionType set as FullyReplicated\u001b[0m\n",
      "\u001b[34m[15:31:05] 4634x18 matrix with 83412 entries loaded from /opt/ml/input/data/validation?format=csv&label_column=0&delimiter=,\u001b[0m\n",
      "\u001b[34m[15:31:05] src/tree/updater_prune.cc:74: tree pruning end, 1 roots, 6 extra nodes, 0 pruned nodes, max_depth=2\u001b[0m\n",
      "\u001b[34m[0]#011train-auc:0.757511#011validation-auc:0.752573\u001b[0m\n",
      "\u001b[34m[15:31:05] src/tree/updater_prune.cc:74: tree pruning end, 1 roots, 6 extra nodes, 0 pruned nodes, max_depth=2\u001b[0m\n",
      "\u001b[34m[1]#011train-auc:0.757591#011validation-auc:0.752557\u001b[0m\n",
      "\u001b[34m[15:31:05] src/tree/updater_prune.cc:74: tree pruning end, 1 roots, 6 extra nodes, 0 pruned nodes, max_depth=2\u001b[0m\n",
      "\u001b[34m[2]#011train-auc:0.759929#011validation-auc:0.753998\u001b[0m\n",
      "\u001b[34m[15:31:05] src/tree/updater_prune.cc:74: tree pruning end, 1 roots, 6 extra nodes, 0 pruned nodes, max_depth=2\u001b[0m\n",
      "\u001b[34m[3]#011train-auc:0.761938#011validation-auc:0.754312\u001b[0m\n",
      "\u001b[34m[15:31:05] src/tree/updater_prune.cc:74: tree pruning end, 1 roots, 6 extra nodes, 0 pruned nodes, max_depth=2\u001b[0m\n",
      "\u001b[34m[4]#011train-auc:0.761938#011validation-auc:0.754312\u001b[0m\n",
      "\u001b[34m[15:31:05] src/tree/updater_prune.cc:74: tree pruning end, 1 roots, 6 extra nodes, 0 pruned nodes, max_depth=2\u001b[0m\n",
      "\u001b[34m[5]#011train-auc:0.767301#011validation-auc:0.761847\u001b[0m\n",
      "\u001b[34m[15:31:05] src/tree/updater_prune.cc:74: tree pruning end, 1 roots, 6 extra nodes, 0 pruned nodes, max_depth=2\u001b[0m\n",
      "\u001b[34m[6]#011train-auc:0.767219#011validation-auc:0.761971\u001b[0m\n",
      "\u001b[34m[15:31:05] src/tree/updater_prune.cc:74: tree pruning end, 1 roots, 6 extra nodes, 0 pruned nodes, max_depth=2\u001b[0m\n",
      "\u001b[34m[7]#011train-auc:0.767814#011validation-auc:0.762892\u001b[0m\n",
      "\u001b[34m[15:31:05] src/tree/updater_prune.cc:74: tree pruning end, 1 roots, 6 extra nodes, 0 pruned nodes, max_depth=2\u001b[0m\n",
      "\u001b[34m[8]#011train-auc:0.770586#011validation-auc:0.767559\u001b[0m\n",
      "\u001b[34m[15:31:05] src/tree/updater_prune.cc:74: tree pruning end, 1 roots, 6 extra nodes, 0 pruned nodes, max_depth=2\u001b[0m\n",
      "\u001b[34m[9]#011train-auc:0.769884#011validation-auc:0.765891\u001b[0m\n",
      "\u001b[34m[15:31:05] src/tree/updater_prune.cc:74: tree pruning end, 1 roots, 6 extra nodes, 0 pruned nodes, max_depth=2\u001b[0m\n",
      "\u001b[34m[10]#011train-auc:0.772186#011validation-auc:0.769268\u001b[0m\n",
      "\u001b[34m[15:31:05] src/tree/updater_prune.cc:74: tree pruning end, 1 roots, 6 extra nodes, 0 pruned nodes, max_depth=2\u001b[0m\n",
      "\u001b[34m[11]#011train-auc:0.78351#011validation-auc:0.772991\u001b[0m\n",
      "\u001b[34m[15:31:05] src/tree/updater_prune.cc:74: tree pruning end, 1 roots, 6 extra nodes, 0 pruned nodes, max_depth=2\u001b[0m\n",
      "\u001b[34m[12]#011train-auc:0.783773#011validation-auc:0.773376\u001b[0m\n",
      "\u001b[34m[15:31:05] src/tree/updater_prune.cc:74: tree pruning end, 1 roots, 6 extra nodes, 0 pruned nodes, max_depth=2\u001b[0m\n",
      "\u001b[34m[13]#011train-auc:0.786431#011validation-auc:0.772611\u001b[0m\n",
      "\u001b[34m[15:31:05] src/tree/updater_prune.cc:74: tree pruning end, 1 roots, 6 extra nodes, 0 pruned nodes, max_depth=2\u001b[0m\n",
      "\u001b[34m[14]#011train-auc:0.786502#011validation-auc:0.772622\u001b[0m\n",
      "\u001b[34m[15:31:05] src/tree/updater_prune.cc:74: tree pruning end, 1 roots, 6 extra nodes, 0 pruned nodes, max_depth=2\u001b[0m\n",
      "\u001b[34m[15]#011train-auc:0.786435#011validation-auc:0.772513\u001b[0m\n",
      "\u001b[34m[15:31:05] src/tree/updater_prune.cc:74: tree pruning end, 1 roots, 6 extra nodes, 0 pruned nodes, max_depth=2\u001b[0m\n",
      "\u001b[34m[16]#011train-auc:0.789609#011validation-auc:0.77641\u001b[0m\n",
      "\u001b[34m[15:31:05] src/tree/updater_prune.cc:74: tree pruning end, 1 roots, 6 extra nodes, 0 pruned nodes, max_depth=2\u001b[0m\n",
      "\u001b[34m[17]#011train-auc:0.790025#011validation-auc:0.778481\u001b[0m\n",
      "\u001b[34m[15:31:05] src/tree/updater_prune.cc:74: tree pruning end, 1 roots, 6 extra nodes, 0 pruned nodes, max_depth=2\u001b[0m\n",
      "\u001b[34m[18]#011train-auc:0.790422#011validation-auc:0.777929\u001b[0m\n",
      "\u001b[34m[15:31:05] src/tree/updater_prune.cc:74: tree pruning end, 1 roots, 6 extra nodes, 0 pruned nodes, max_depth=2\u001b[0m\n",
      "\u001b[34m[19]#011train-auc:0.790248#011validation-auc:0.777827\u001b[0m\n",
      "\u001b[34m[15:31:05] src/tree/updater_prune.cc:74: tree pruning end, 1 roots, 6 extra nodes, 0 pruned nodes, max_depth=2\u001b[0m\n",
      "\u001b[34m[20]#011train-auc:0.791016#011validation-auc:0.778946\u001b[0m\n",
      "\u001b[34m[15:31:05] src/tree/updater_prune.cc:74: tree pruning end, 1 roots, 6 extra nodes, 0 pruned nodes, max_depth=2\u001b[0m\n",
      "\u001b[34m[21]#011train-auc:0.790647#011validation-auc:0.778543\u001b[0m\n",
      "\u001b[34m[15:31:05] src/tree/updater_prune.cc:74: tree pruning end, 1 roots, 6 extra nodes, 0 pruned nodes, max_depth=2\u001b[0m\n",
      "\u001b[34m[22]#011train-auc:0.79076#011validation-auc:0.778616\u001b[0m\n",
      "\u001b[34m[15:31:05] src/tree/updater_prune.cc:74: tree pruning end, 1 roots, 6 extra nodes, 0 pruned nodes, max_depth=2\u001b[0m\n",
      "\u001b[34m[23]#011train-auc:0.79183#011validation-auc:0.780441\u001b[0m\n",
      "\u001b[34m[15:31:05] src/tree/updater_prune.cc:74: tree pruning end, 1 roots, 6 extra nodes, 0 pruned nodes, max_depth=2\u001b[0m\n",
      "\u001b[34m[24]#011train-auc:0.792191#011validation-auc:0.780822\u001b[0m\n",
      "\u001b[34m[15:31:05] src/tree/updater_prune.cc:74: tree pruning end, 1 roots, 6 extra nodes, 0 pruned nodes, max_depth=2\u001b[0m\n",
      "\u001b[34m[25]#011train-auc:0.794159#011validation-auc:0.783073\u001b[0m\n",
      "\u001b[34m[15:31:05] src/tree/updater_prune.cc:74: tree pruning end, 1 roots, 6 extra nodes, 0 pruned nodes, max_depth=2\u001b[0m\n",
      "\u001b[34m[26]#011train-auc:0.794087#011validation-auc:0.783587\u001b[0m\n",
      "\u001b[34m[15:31:05] src/tree/updater_prune.cc:74: tree pruning end, 1 roots, 6 extra nodes, 0 pruned nodes, max_depth=2\u001b[0m\n",
      "\u001b[34m[27]#011train-auc:0.794201#011validation-auc:0.783393\u001b[0m\n",
      "\u001b[34m[15:31:05] src/tree/updater_prune.cc:74: tree pruning end, 1 roots, 6 extra nodes, 0 pruned nodes, max_depth=2\u001b[0m\n",
      "\u001b[34m[28]#011train-auc:0.794399#011validation-auc:0.783343\u001b[0m\n",
      "\u001b[34m[15:31:05] src/tree/updater_prune.cc:74: tree pruning end, 1 roots, 4 extra nodes, 2 pruned nodes, max_depth=2\u001b[0m\n",
      "\u001b[34m[29]#011train-auc:0.795061#011validation-auc:0.78425\u001b[0m\n",
      "\u001b[34m[15:31:05] src/tree/updater_prune.cc:74: tree pruning end, 1 roots, 6 extra nodes, 0 pruned nodes, max_depth=2\u001b[0m\n",
      "\u001b[34m[30]#011train-auc:0.795661#011validation-auc:0.784886\u001b[0m\n",
      "\u001b[34m[15:31:05] src/tree/updater_prune.cc:74: tree pruning end, 1 roots, 6 extra nodes, 0 pruned nodes, max_depth=2\u001b[0m\n",
      "\u001b[34m[31]#011train-auc:0.796399#011validation-auc:0.786036\u001b[0m\n",
      "\u001b[34m[15:31:05] src/tree/updater_prune.cc:74: tree pruning end, 1 roots, 6 extra nodes, 0 pruned nodes, max_depth=2\u001b[0m\n",
      "\u001b[34m[32]#011train-auc:0.796512#011validation-auc:0.785063\u001b[0m\n",
      "\u001b[34m[15:31:05] src/tree/updater_prune.cc:74: tree pruning end, 1 roots, 6 extra nodes, 0 pruned nodes, max_depth=2\u001b[0m\n",
      "\u001b[34m[33]#011train-auc:0.796575#011validation-auc:0.784919\u001b[0m\n",
      "\u001b[34m[15:31:05] src/tree/updater_prune.cc:74: tree pruning end, 1 roots, 6 extra nodes, 0 pruned nodes, max_depth=2\u001b[0m\n",
      "\u001b[34m[34]#011train-auc:0.797148#011validation-auc:0.784614\u001b[0m\n",
      "\u001b[34m[15:31:05] src/tree/updater_prune.cc:74: tree pruning end, 1 roots, 6 extra nodes, 0 pruned nodes, max_depth=2\u001b[0m\n",
      "\u001b[34m[35]#011train-auc:0.797487#011validation-auc:0.784336\u001b[0m\n",
      "\u001b[34m[15:31:05] src/tree/updater_prune.cc:74: tree pruning end, 1 roots, 6 extra nodes, 0 pruned nodes, max_depth=2\u001b[0m\n",
      "\u001b[34m[36]#011train-auc:0.798596#011validation-auc:0.786\u001b[0m\n",
      "\u001b[34m[15:31:05] src/tree/updater_prune.cc:74: tree pruning end, 1 roots, 6 extra nodes, 0 pruned nodes, max_depth=2\u001b[0m\n",
      "\u001b[34m[37]#011train-auc:0.798569#011validation-auc:0.786068\u001b[0m\n",
      "\u001b[34m[15:31:05] src/tree/updater_prune.cc:74: tree pruning end, 1 roots, 6 extra nodes, 0 pruned nodes, max_depth=2\u001b[0m\n",
      "\u001b[34m[38]#011train-auc:0.799746#011validation-auc:0.787995\u001b[0m\n",
      "\u001b[34m[15:31:05] src/tree/updater_prune.cc:74: tree pruning end, 1 roots, 6 extra nodes, 0 pruned nodes, max_depth=2\u001b[0m\n",
      "\u001b[34m[39]#011train-auc:0.79967#011validation-auc:0.787831\u001b[0m\n",
      "\u001b[34m[15:31:05] src/tree/updater_prune.cc:74: tree pruning end, 1 roots, 4 extra nodes, 2 pruned nodes, max_depth=2\u001b[0m\n",
      "\u001b[34m[40]#011train-auc:0.799726#011validation-auc:0.787904\u001b[0m\n",
      "\u001b[34m[15:31:05] src/tree/updater_prune.cc:74: tree pruning end, 1 roots, 6 extra nodes, 0 pruned nodes, max_depth=2\u001b[0m\n",
      "\u001b[34m[41]#011train-auc:0.799866#011validation-auc:0.787905\u001b[0m\n",
      "\u001b[34m[15:31:05] src/tree/updater_prune.cc:74: tree pruning end, 1 roots, 4 extra nodes, 2 pruned nodes, max_depth=2\u001b[0m\n",
      "\u001b[34m[42]#011train-auc:0.799823#011validation-auc:0.788004\u001b[0m\n",
      "\u001b[34m[15:31:05] src/tree/updater_prune.cc:74: tree pruning end, 1 roots, 6 extra nodes, 0 pruned nodes, max_depth=2\u001b[0m\n",
      "\u001b[34m[43]#011train-auc:0.800164#011validation-auc:0.787805\u001b[0m\n",
      "\u001b[34m[15:31:05] src/tree/updater_prune.cc:74: tree pruning end, 1 roots, 6 extra nodes, 0 pruned nodes, max_depth=2\u001b[0m\n",
      "\u001b[34m[44]#011train-auc:0.800145#011validation-auc:0.788042\u001b[0m\n",
      "\u001b[34m[15:31:05] src/tree/updater_prune.cc:74: tree pruning end, 1 roots, 6 extra nodes, 0 pruned nodes, max_depth=2\u001b[0m\n",
      "\u001b[34m[45]#011train-auc:0.80046#011validation-auc:0.788197\u001b[0m\n",
      "\u001b[34m[15:31:05] src/tree/updater_prune.cc:74: tree pruning end, 1 roots, 6 extra nodes, 0 pruned nodes, max_depth=2\u001b[0m\n",
      "\u001b[34m[46]#011train-auc:0.800963#011validation-auc:0.788697\u001b[0m\n",
      "\u001b[34m[15:31:05] src/tree/updater_prune.cc:74: tree pruning end, 1 roots, 6 extra nodes, 0 pruned nodes, max_depth=2\u001b[0m\n",
      "\u001b[34m[47]#011train-auc:0.801239#011validation-auc:0.788799\u001b[0m\n",
      "\u001b[34m[15:31:05] src/tree/updater_prune.cc:74: tree pruning end, 1 roots, 6 extra nodes, 0 pruned nodes, max_depth=2\u001b[0m\n",
      "\u001b[34m[48]#011train-auc:0.80129#011validation-auc:0.788823\u001b[0m\n",
      "\u001b[34m[15:31:05] src/tree/updater_prune.cc:74: tree pruning end, 1 roots, 6 extra nodes, 0 pruned nodes, max_depth=2\u001b[0m\n",
      "\u001b[34m[49]#011train-auc:0.801718#011validation-auc:0.78944\u001b[0m\n",
      "\u001b[34m[15:31:05] src/tree/updater_prune.cc:74: tree pruning end, 1 roots, 6 extra nodes, 0 pruned nodes, max_depth=2\u001b[0m\n",
      "\u001b[34m[50]#011train-auc:0.8019#011validation-auc:0.789396\u001b[0m\n",
      "\u001b[34m[15:31:05] src/tree/updater_prune.cc:74: tree pruning end, 1 roots, 0 extra nodes, 6 pruned nodes, max_depth=0\u001b[0m\n",
      "\u001b[34m[51]#011train-auc:0.8019#011validation-auc:0.789396\u001b[0m\n",
      "\u001b[34m[15:31:05] src/tree/updater_prune.cc:74: tree pruning end, 1 roots, 6 extra nodes, 0 pruned nodes, max_depth=2\u001b[0m\n",
      "\u001b[34m[52]#011train-auc:0.801979#011validation-auc:0.789443\u001b[0m\n",
      "\u001b[34m[15:31:05] src/tree/updater_prune.cc:74: tree pruning end, 1 roots, 6 extra nodes, 0 pruned nodes, max_depth=2\u001b[0m\n",
      "\u001b[34m[53]#011train-auc:0.802447#011validation-auc:0.789765\u001b[0m\n",
      "\u001b[34m[15:31:05] src/tree/updater_prune.cc:74: tree pruning end, 1 roots, 4 extra nodes, 2 pruned nodes, max_depth=2\u001b[0m\n",
      "\u001b[34m[54]#011train-auc:0.802474#011validation-auc:0.789828\u001b[0m\n",
      "\u001b[34m[15:31:05] src/tree/updater_prune.cc:74: tree pruning end, 1 roots, 0 extra nodes, 6 pruned nodes, max_depth=0\u001b[0m\n",
      "\u001b[34m[55]#011train-auc:0.802474#011validation-auc:0.789828\u001b[0m\n",
      "\u001b[34m[15:31:05] src/tree/updater_prune.cc:74: tree pruning end, 1 roots, 6 extra nodes, 0 pruned nodes, max_depth=2\u001b[0m\n",
      "\u001b[34m[56]#011train-auc:0.802582#011validation-auc:0.789949\u001b[0m\n",
      "\u001b[34m[15:31:05] src/tree/updater_prune.cc:74: tree pruning end, 1 roots, 4 extra nodes, 2 pruned nodes, max_depth=2\u001b[0m\n",
      "\u001b[34m[57]#011train-auc:0.802612#011validation-auc:0.789842\u001b[0m\n",
      "\u001b[34m[15:31:05] src/tree/updater_prune.cc:74: tree pruning end, 1 roots, 6 extra nodes, 0 pruned nodes, max_depth=2\u001b[0m\n",
      "\u001b[34m[58]#011train-auc:0.802898#011validation-auc:0.789837\u001b[0m\n",
      "\u001b[34m[15:31:05] src/tree/updater_prune.cc:74: tree pruning end, 1 roots, 6 extra nodes, 0 pruned nodes, max_depth=2\u001b[0m\n",
      "\u001b[34m[59]#011train-auc:0.803338#011validation-auc:0.791286\u001b[0m\n",
      "\u001b[34m[15:31:05] src/tree/updater_prune.cc:74: tree pruning end, 1 roots, 2 extra nodes, 4 pruned nodes, max_depth=1\u001b[0m\n",
      "\u001b[34m[60]#011train-auc:0.803308#011validation-auc:0.791276\u001b[0m\n",
      "\u001b[34m[15:31:05] src/tree/updater_prune.cc:74: tree pruning end, 1 roots, 4 extra nodes, 2 pruned nodes, max_depth=2\u001b[0m\n",
      "\u001b[34m[61]#011train-auc:0.80346#011validation-auc:0.791251\u001b[0m\n",
      "\u001b[34m[15:31:05] src/tree/updater_prune.cc:74: tree pruning end, 1 roots, 4 extra nodes, 2 pruned nodes, max_depth=2\u001b[0m\n",
      "\u001b[34m[62]#011train-auc:0.803666#011validation-auc:0.790759\u001b[0m\n",
      "\u001b[34m[15:31:05] src/tree/updater_prune.cc:74: tree pruning end, 1 roots, 4 extra nodes, 2 pruned nodes, max_depth=2\u001b[0m\n",
      "\u001b[34m[63]#011train-auc:0.804146#011validation-auc:0.791532\u001b[0m\n",
      "\u001b[34m[15:31:05] src/tree/updater_prune.cc:74: tree pruning end, 1 roots, 2 extra nodes, 2 pruned nodes, max_depth=1\u001b[0m\n",
      "\u001b[34m[64]#011train-auc:0.804355#011validation-auc:0.791545\u001b[0m\n",
      "\u001b[34m[15:31:05] src/tree/updater_prune.cc:74: tree pruning end, 1 roots, 4 extra nodes, 2 pruned nodes, max_depth=2\u001b[0m\n",
      "\u001b[34m[65]#011train-auc:0.8044#011validation-auc:0.791589\u001b[0m\n",
      "\u001b[34m[15:31:05] src/tree/updater_prune.cc:74: tree pruning end, 1 roots, 4 extra nodes, 2 pruned nodes, max_depth=2\u001b[0m\n",
      "\u001b[34m[66]#011train-auc:0.804336#011validation-auc:0.791505\u001b[0m\n",
      "\u001b[34m[15:31:05] src/tree/updater_prune.cc:74: tree pruning end, 1 roots, 0 extra nodes, 6 pruned nodes, max_depth=0\u001b[0m\n",
      "\u001b[34m[67]#011train-auc:0.804336#011validation-auc:0.791505\u001b[0m\n",
      "\u001b[34m[15:31:05] src/tree/updater_prune.cc:74: tree pruning end, 1 roots, 0 extra nodes, 6 pruned nodes, max_depth=0\u001b[0m\n",
      "\u001b[34m[68]#011train-auc:0.804336#011validation-auc:0.791505\u001b[0m\n",
      "\u001b[34m[15:31:05] src/tree/updater_prune.cc:74: tree pruning end, 1 roots, 6 extra nodes, 0 pruned nodes, max_depth=2\u001b[0m\n",
      "\u001b[34m[69]#011train-auc:0.804379#011validation-auc:0.791443\u001b[0m\n",
      "\u001b[34m[15:31:05] src/tree/updater_prune.cc:74: tree pruning end, 1 roots, 4 extra nodes, 2 pruned nodes, max_depth=2\u001b[0m\n",
      "\u001b[34m[70]#011train-auc:0.804325#011validation-auc:0.79156\u001b[0m\n",
      "\u001b[34m[15:31:05] src/tree/updater_prune.cc:74: tree pruning end, 1 roots, 0 extra nodes, 6 pruned nodes, max_depth=0\u001b[0m\n",
      "\u001b[34m[71]#011train-auc:0.804325#011validation-auc:0.79156\u001b[0m\n",
      "\u001b[34m[15:31:05] src/tree/updater_prune.cc:74: tree pruning end, 1 roots, 4 extra nodes, 2 pruned nodes, max_depth=2\u001b[0m\n",
      "\u001b[34m[72]#011train-auc:0.804395#011validation-auc:0.791696\u001b[0m\n",
      "\u001b[34m[15:31:05] src/tree/updater_prune.cc:74: tree pruning end, 1 roots, 0 extra nodes, 6 pruned nodes, max_depth=0\u001b[0m\n",
      "\u001b[34m[73]#011train-auc:0.804395#011validation-auc:0.791696\u001b[0m\n",
      "\u001b[34m[15:31:05] src/tree/updater_prune.cc:74: tree pruning end, 1 roots, 4 extra nodes, 2 pruned nodes, max_depth=2\u001b[0m\n",
      "\u001b[34m[74]#011train-auc:0.804495#011validation-auc:0.79186\u001b[0m\n",
      "\u001b[34m[15:31:05] src/tree/updater_prune.cc:74: tree pruning end, 1 roots, 0 extra nodes, 6 pruned nodes, max_depth=0\u001b[0m\n",
      "\u001b[34m[75]#011train-auc:0.804495#011validation-auc:0.79186\u001b[0m\n",
      "\u001b[34m[15:31:05] src/tree/updater_prune.cc:74: tree pruning end, 1 roots, 6 extra nodes, 0 pruned nodes, max_depth=2\u001b[0m\n",
      "\u001b[34m[76]#011train-auc:0.804538#011validation-auc:0.791838\u001b[0m\n",
      "\u001b[34m[15:31:05] src/tree/updater_prune.cc:74: tree pruning end, 1 roots, 0 extra nodes, 4 pruned nodes, max_depth=0\u001b[0m\n",
      "\u001b[34m[77]#011train-auc:0.804538#011validation-auc:0.791838\u001b[0m\n",
      "\u001b[34m[15:31:05] src/tree/updater_prune.cc:74: tree pruning end, 1 roots, 0 extra nodes, 6 pruned nodes, max_depth=0\u001b[0m\n",
      "\u001b[34m[78]#011train-auc:0.804538#011validation-auc:0.791838\u001b[0m\n",
      "\u001b[34m[15:31:05] src/tree/updater_prune.cc:74: tree pruning end, 1 roots, 6 extra nodes, 0 pruned nodes, max_depth=2\u001b[0m\n",
      "\u001b[34m[79]#011train-auc:0.804652#011validation-auc:0.79199\u001b[0m\n",
      "\u001b[34m[15:31:05] src/tree/updater_prune.cc:74: tree pruning end, 1 roots, 2 extra nodes, 4 pruned nodes, max_depth=1\u001b[0m\n",
      "\u001b[34m[80]#011train-auc:0.804754#011validation-auc:0.792068\u001b[0m\n",
      "\u001b[34m[15:31:05] src/tree/updater_prune.cc:74: tree pruning end, 1 roots, 0 extra nodes, 6 pruned nodes, max_depth=0\u001b[0m\n",
      "\u001b[34m[81]#011train-auc:0.804754#011validation-auc:0.792068\u001b[0m\n",
      "\u001b[34m[15:31:05] src/tree/updater_prune.cc:74: tree pruning end, 1 roots, 0 extra nodes, 6 pruned nodes, max_depth=0\u001b[0m\n",
      "\u001b[34m[82]#011train-auc:0.804754#011validation-auc:0.792068\u001b[0m\n",
      "\u001b[34m[15:31:05] src/tree/updater_prune.cc:74: tree pruning end, 1 roots, 6 extra nodes, 0 pruned nodes, max_depth=2\u001b[0m\n",
      "\u001b[34m[83]#011train-auc:0.804883#011validation-auc:0.792112\u001b[0m\n",
      "\u001b[34m[15:31:05] src/tree/updater_prune.cc:74: tree pruning end, 1 roots, 4 extra nodes, 2 pruned nodes, max_depth=2\u001b[0m\n",
      "\u001b[34m[84]#011train-auc:0.804891#011validation-auc:0.792129\u001b[0m\n",
      "\u001b[34m[15:31:05] src/tree/updater_prune.cc:74: tree pruning end, 1 roots, 0 extra nodes, 6 pruned nodes, max_depth=0\u001b[0m\n",
      "\u001b[34m[85]#011train-auc:0.804891#011validation-auc:0.792129\u001b[0m\n",
      "\u001b[34m[15:31:05] src/tree/updater_prune.cc:74: tree pruning end, 1 roots, 4 extra nodes, 2 pruned nodes, max_depth=2\u001b[0m\n",
      "\u001b[34m[86]#011train-auc:0.804874#011validation-auc:0.791866\u001b[0m\n",
      "\u001b[34m[15:31:05] src/tree/updater_prune.cc:74: tree pruning end, 1 roots, 4 extra nodes, 2 pruned nodes, max_depth=2\u001b[0m\n",
      "\u001b[34m[87]#011train-auc:0.804884#011validation-auc:0.791879\u001b[0m\n",
      "\u001b[34m[15:31:05] src/tree/updater_prune.cc:74: tree pruning end, 1 roots, 6 extra nodes, 0 pruned nodes, max_depth=2\u001b[0m\n",
      "\u001b[34m[88]#011train-auc:0.805116#011validation-auc:0.792002\u001b[0m\n",
      "\u001b[34m[15:31:05] src/tree/updater_prune.cc:74: tree pruning end, 1 roots, 4 extra nodes, 2 pruned nodes, max_depth=2\u001b[0m\n",
      "\u001b[34m[89]#011train-auc:0.805134#011validation-auc:0.792028\u001b[0m\n",
      "\u001b[34m[15:31:05] src/tree/updater_prune.cc:74: tree pruning end, 1 roots, 4 extra nodes, 2 pruned nodes, max_depth=2\u001b[0m\n",
      "\u001b[34m[90]#011train-auc:0.805188#011validation-auc:0.792104\u001b[0m\n",
      "\u001b[34m[15:31:05] src/tree/updater_prune.cc:74: tree pruning end, 1 roots, 0 extra nodes, 4 pruned nodes, max_depth=0\u001b[0m\n",
      "\u001b[34m[91]#011train-auc:0.805188#011validation-auc:0.792104\u001b[0m\n",
      "\u001b[34m[15:31:05] src/tree/updater_prune.cc:74: tree pruning end, 1 roots, 0 extra nodes, 6 pruned nodes, max_depth=0\u001b[0m\n",
      "\u001b[34m[92]#011train-auc:0.805188#011validation-auc:0.792104\u001b[0m\n",
      "\u001b[34m[15:31:05] src/tree/updater_prune.cc:74: tree pruning end, 1 roots, 4 extra nodes, 2 pruned nodes, max_depth=2\u001b[0m\n",
      "\u001b[34m[93]#011train-auc:0.80519#011validation-auc:0.792074\u001b[0m\n",
      "\u001b[34m[15:31:05] src/tree/updater_prune.cc:74: tree pruning end, 1 roots, 0 extra nodes, 6 pruned nodes, max_depth=0\u001b[0m\n",
      "\u001b[34m[94]#011train-auc:0.80519#011validation-auc:0.792074\u001b[0m\n",
      "\u001b[34m[15:31:05] src/tree/updater_prune.cc:74: tree pruning end, 1 roots, 0 extra nodes, 6 pruned nodes, max_depth=0\u001b[0m\n",
      "\u001b[34m[95]#011train-auc:0.80519#011validation-auc:0.792074\u001b[0m\n",
      "\u001b[34m[15:31:05] src/tree/updater_prune.cc:74: tree pruning end, 1 roots, 0 extra nodes, 4 pruned nodes, max_depth=0\u001b[0m\n",
      "\u001b[34m[96]#011train-auc:0.80519#011validation-auc:0.792074\u001b[0m\n",
      "\u001b[34m[15:31:05] src/tree/updater_prune.cc:74: tree pruning end, 1 roots, 0 extra nodes, 6 pruned nodes, max_depth=0\u001b[0m\n",
      "\u001b[34m[97]#011train-auc:0.80519#011validation-auc:0.792074\u001b[0m\n",
      "\u001b[34m[15:31:05] src/tree/updater_prune.cc:74: tree pruning end, 1 roots, 0 extra nodes, 6 pruned nodes, max_depth=0\u001b[0m\n",
      "\u001b[34m[98]#011train-auc:0.80519#011validation-auc:0.792074\u001b[0m\n",
      "\u001b[34m[15:31:05] src/tree/updater_prune.cc:74: tree pruning end, 1 roots, 6 extra nodes, 0 pruned nodes, max_depth=2\u001b[0m\n",
      "\u001b[34m[99]#011train-auc:0.805211#011validation-auc:0.792122\u001b[0m\n"
     ]
    },
    {
     "name": "stdout",
     "output_type": "stream",
     "text": [
      "\n",
      "2020-06-19 15:31:17 Uploading - Uploading generated training model\n",
      "2020-06-19 15:31:17 Completed - Training job completed\n",
      "Training seconds: 66\n",
      "Billable seconds: 66\n"
     ]
    }
   ],
   "source": [
    "xgb.fit({'train': s3_input_train, 'validation': s3_input_validation})"
   ]
  },
  {
   "cell_type": "markdown",
   "metadata": {},
   "source": [
    "### Step 4. Hosting Model to an Endpoint"
   ]
  },
  {
   "cell_type": "code",
   "execution_count": 13,
   "metadata": {},
   "outputs": [
    {
     "name": "stdout",
     "output_type": "stream",
     "text": [
      "---------------!"
     ]
    }
   ],
   "source": [
    "xgb_predictor = xgb.deploy(initial_instance_count=1, instance_type='ml.m4.xlarge')"
   ]
  },
  {
   "cell_type": "markdown",
   "metadata": {},
   "source": [
    "### Step 5. Predictions using the hosted model"
   ]
  },
  {
   "cell_type": "code",
   "execution_count": 14,
   "metadata": {},
   "outputs": [
    {
     "name": "stderr",
     "output_type": "stream",
     "text": [
      "/home/ec2-user/anaconda3/envs/python3/lib/python3.6/site-packages/ipykernel/__main__.py:13: FutureWarning: Method .as_matrix will be removed in a future version. Use .values instead.\n"
     ]
    }
   ],
   "source": [
    "xgb_predictor.content_type = 'text/csv'\n",
    "xgb_predictor.serializer = csv_serializer\n",
    "xgb_predictor.deserializer = None\n",
    "import numpy as np\n",
    "def predict(data, rows=500):\n",
    "    split_array = np.array_split(data, int(data.shape[0] / float(rows) + 1))\n",
    "    predictions = ''\n",
    "    for array in split_array:\n",
    "        predictions = ','.join([predictions, xgb_predictor.predict(array).decode('utf-8')])\n",
    "\n",
    "    return np.fromstring(predictions[1:], sep=',')\n",
    "\n",
    "predictions = predict(data_test.as_matrix()[:, 1:])\n"
   ]
  },
  {
   "cell_type": "code",
   "execution_count": 18,
   "metadata": {},
   "outputs": [
    {
     "name": "stdout",
     "output_type": "stream",
     "text": [
      "First 20 Final Predictions:  [1, 0, 1, 0, 0, 1, 0, 0, 0, 0, 0, 0, 0, 0, 0, 0, 0, 0, 0, 0]\n"
     ]
    }
   ],
   "source": [
    "final_predictions = list(np.where(predictions > 0.5, 1, 0))\n",
    "print(\"First 20 Final Predictions: \",final_predictions[:20])"
   ]
  },
  {
   "cell_type": "code",
   "execution_count": 19,
   "metadata": {},
   "outputs": [],
   "source": [
    "Y_test_act = list(data_test['y'])"
   ]
  },
  {
   "cell_type": "markdown",
   "metadata": {},
   "source": [
    "### Step 6. Measuing Model Performance"
   ]
  },
  {
   "cell_type": "code",
   "execution_count": 20,
   "metadata": {},
   "outputs": [],
   "source": [
    "from sklearn.metrics import precision_score\n",
    "from sklearn.metrics import recall_score\n",
    "from sklearn.metrics import f1_score\n"
   ]
  },
  {
   "cell_type": "code",
   "execution_count": 21,
   "metadata": {},
   "outputs": [
    {
     "name": "stdout",
     "output_type": "stream",
     "text": [
      "Precision: 67.24137931034483%\n",
      "Recall: 16.52542372881356%\n",
      "F-Measure: 0.265\n"
     ]
    }
   ],
   "source": [
    "precision = precision_score(Y_test_act, final_predictions, average='binary')\n",
    "print('Precision: {}%'.format(precision*100))\n",
    "recall = recall_score(Y_test_act, final_predictions, average='binary')\n",
    "print('Recall: {}%'.format(recall*100))\n",
    "score = f1_score(Y_test_act, final_predictions, average='binary')\n",
    "print('F-Measure: %.3f' % score)"
   ]
  },
  {
   "cell_type": "markdown",
   "metadata": {},
   "source": [
    "### Step 7. Deleting Endpoint"
   ]
  },
  {
   "cell_type": "code",
   "execution_count": 103,
   "metadata": {},
   "outputs": [
    {
     "data": {
      "text/plain": [
       "{'ResponseMetadata': {'RequestId': 'f5c70d17-05ef-4b9a-ab0b-af8fa9887080',\n",
       "  'HTTPStatusCode': 200,\n",
       "  'HTTPHeaders': {'x-amzn-requestid': 'f5c70d17-05ef-4b9a-ab0b-af8fa9887080',\n",
       "   'content-type': 'application/x-amz-json-1.1',\n",
       "   'content-length': '0',\n",
       "   'date': 'Tue, 16 Jun 2020 16:55:30 GMT'},\n",
       "  'RetryAttempts': 0}}"
      ]
     },
     "execution_count": 103,
     "metadata": {},
     "output_type": "execute_result"
    }
   ],
   "source": [
    "import boto3\n",
    "sm = boto3.Session(region_name=region).client('sagemaker')\n",
    "sm.delete_endpoint(EndpointName='xgboost-2020-06-16-16-14-32-211')"
   ]
  },
  {
   "cell_type": "code",
   "execution_count": null,
   "metadata": {},
   "outputs": [],
   "source": []
  }
 ],
 "metadata": {
  "kernelspec": {
   "display_name": "conda_python3",
   "language": "python",
   "name": "conda_python3"
  },
  "language_info": {
   "codemirror_mode": {
    "name": "ipython",
    "version": 3
   },
   "file_extension": ".py",
   "mimetype": "text/x-python",
   "name": "python",
   "nbconvert_exporter": "python",
   "pygments_lexer": "ipython3",
   "version": "3.6.5"
  }
 },
 "nbformat": 4,
 "nbformat_minor": 4
}
